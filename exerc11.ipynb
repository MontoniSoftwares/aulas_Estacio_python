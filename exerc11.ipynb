{
  "nbformat": 4,
  "nbformat_minor": 0,
  "metadata": {
    "colab": {
      "provenance": [],
      "authorship_tag": "ABX9TyO0Fla51HFCcmmVjdnL02Vx",
      "include_colab_link": true
    },
    "kernelspec": {
      "name": "python3",
      "display_name": "Python 3"
    },
    "language_info": {
      "name": "python"
    }
  },
  "cells": [
    {
      "cell_type": "markdown",
      "metadata": {
        "id": "view-in-github",
        "colab_type": "text"
      },
      "source": [
        "<a href=\"https://colab.research.google.com/github/MontoniSoftwares/aulas_Estacio_python/blob/main/exerc11.ipynb\" target=\"_parent\"><img src=\"https://colab.research.google.com/assets/colab-badge.svg\" alt=\"Open In Colab\"/></a>"
      ]
    },
    {
      "cell_type": "code",
      "source": [
        "def encontrar_minimo(lista):\n",
        " minimo = lista[0]\n",
        " for elem in lista:\n",
        "  if(elem < minimo):\n",
        "    minimo = elem\n",
        " return minimo\n",
        "\n",
        "\n",
        "\n",
        "lista_teste = [25, 35, 54, 65, 10, 7, 11]\n",
        "menor = encontrar_minimo(lista_teste)\n",
        "print (\"O menor número da lista é : [{}]\".format(menor))"
      ],
      "metadata": {
        "colab": {
          "base_uri": "https://localhost:8080/"
        },
        "id": "6nW112jp75SB",
        "outputId": "a78b0e7b-df65-4289-f5bf-cf08bb8fd851"
      },
      "execution_count": 54,
      "outputs": [
        {
          "output_type": "stream",
          "name": "stdout",
          "text": [
            "O menor número da lista é : [7]\n"
          ]
        }
      ]
    }
  ]
}