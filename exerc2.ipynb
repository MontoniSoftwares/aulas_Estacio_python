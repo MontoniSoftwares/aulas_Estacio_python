{
  "nbformat": 4,
  "nbformat_minor": 0,
  "metadata": {
    "colab": {
      "provenance": [],
      "authorship_tag": "ABX9TyN6yG/sigKPJuK62w9BpODZ",
      "include_colab_link": true
    },
    "kernelspec": {
      "name": "python3",
      "display_name": "Python 3"
    },
    "language_info": {
      "name": "python"
    }
  },
  "cells": [
    {
      "cell_type": "markdown",
      "metadata": {
        "id": "view-in-github",
        "colab_type": "text"
      },
      "source": [
        "<a href=\"https://colab.research.google.com/github/MontoniSoftwares/aulas_Estacio_python/blob/main/exerc2.ipynb\" target=\"_parent\"><img src=\"https://colab.research.google.com/assets/colab-badge.svg\" alt=\"Open In Colab\"/></a>"
      ]
    },
    {
      "cell_type": "code",
      "source": [
        "idade = eval(input('Informe a idade da criança: \\n'))\n",
        "if idade < 5:\n",
        "    print('A criança deve ser vacinada contra a gripe.')\n",
        "    print('Procure o posto de saúde mais próximo.')\n",
        "elif idade == 5:\n",
        "    print('A vacina estará disponível em breve.')\n",
        "    print('Aguarde as próximas informações.')\n",
        "else:\n",
        "    print('A vacinação só ocorrerá daqui a 3 meses.')\n",
        "    print('Informe-se novamente neste prazo.')\n",
        "print('Cuide da saúde sempre. Até a próxima.')\n"
      ],
      "metadata": {
        "colab": {
          "base_uri": "https://localhost:8080/"
        },
        "id": "_jyTzuD7z7Ez",
        "outputId": "4866ce71-4ce0-4376-e85a-e93d3f10442a"
      },
      "execution_count": 35,
      "outputs": [
        {
          "output_type": "stream",
          "name": "stdout",
          "text": [
            "Informe a idade da criança: \n",
            "6\n",
            "A vacinação só ocorrerá daqui a 3 meses.\n",
            "Informe-se novamente neste prazo.\n",
            "Cuide da saúde sempre. Até a próxima.\n"
          ]
        }
      ]
    }
  ]
}