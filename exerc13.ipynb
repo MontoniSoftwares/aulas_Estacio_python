{
  "nbformat": 4,
  "nbformat_minor": 0,
  "metadata": {
    "colab": {
      "provenance": [],
      "authorship_tag": "ABX9TyPTpV9paVVQv8yMUkUbhIB9",
      "include_colab_link": true
    },
    "kernelspec": {
      "name": "python3",
      "display_name": "Python 3"
    },
    "language_info": {
      "name": "python"
    }
  },
  "cells": [
    {
      "cell_type": "markdown",
      "metadata": {
        "id": "view-in-github",
        "colab_type": "text"
      },
      "source": [
        "<a href=\"https://colab.research.google.com/github/MontoniSoftwares/aulas_Estacio_python/blob/main/exerc13.ipynb\" target=\"_parent\"><img src=\"https://colab.research.google.com/assets/colab-badge.svg\" alt=\"Open In Colab\"/></a>"
      ]
    },
    {
      "cell_type": "code",
      "source": [
        "def fatorial(n):\n",
        "    \"\"\"\n",
        "    Calcula o fatorial de um número inteiro n.\n",
        "    \"\"\"\n",
        "    if n == 0:\n",
        "        return 1\n",
        "    else:\n",
        "        return n * fatorial(n-1)\n",
        "        \n",
        "        print(fatorial(0)) # Saída: 1\n",
        "print(fatorial(1)) # Saída: 1\n",
        "print(fatorial(5)) # Saída: 120\n",
        "print(fatorial(10)) # Saída: 3628800\n",
        "\n"
      ],
      "metadata": {
        "colab": {
          "base_uri": "https://localhost:8080/"
        },
        "id": "At-EioeGBdnr",
        "outputId": "539737d6-41ee-4289-af5b-1646b7511972"
      },
      "execution_count": 70,
      "outputs": [
        {
          "output_type": "stream",
          "name": "stdout",
          "text": [
            "1\n",
            "120\n",
            "3628800\n"
          ]
        }
      ]
    }
  ]
}