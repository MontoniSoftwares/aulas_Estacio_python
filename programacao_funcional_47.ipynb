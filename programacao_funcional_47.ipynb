{
  "nbformat": 4,
  "nbformat_minor": 0,
  "metadata": {
    "colab": {
      "provenance": [],
      "authorship_tag": "ABX9TyMZxUFX52C6nI5/AMpjHnaR",
      "include_colab_link": true
    },
    "kernelspec": {
      "name": "python3",
      "display_name": "Python 3"
    },
    "language_info": {
      "name": "python"
    }
  },
  "cells": [
    {
      "cell_type": "markdown",
      "metadata": {
        "id": "view-in-github",
        "colab_type": "text"
      },
      "source": [
        "<a href=\"https://colab.research.google.com/github/MontoniSoftwares/aulas_Estacio_python/blob/main/programacao_funcional_47.ipynb\" target=\"_parent\"><img src=\"https://colab.research.google.com/assets/colab-badge.svg\" alt=\"Open In Colab\"/></a>"
      ]
    },
    {
      "cell_type": "code",
      "source": [
        "veiculos = ['aviao', 'carro', 'navio','onibus']\n",
        "\n",
        "f_maiuscula = lambda x: str.upper (x)\n",
        "\n",
        "nomes_maisculos = list(map(f_maiuscula, veiculos))\n",
        "\n",
        "print(f'nomes maiusculos = {nomes_maisculos}')\n"
      ],
      "metadata": {
        "colab": {
          "base_uri": "https://localhost:8080/"
        },
        "id": "aVQTr58eHkmU",
        "outputId": "84254e7d-665a-44ab-c080-0690367b03a7"
      },
      "execution_count": 8,
      "outputs": [
        {
          "output_type": "stream",
          "name": "stdout",
          "text": [
            "nomes maiusculos = ['AVIAO', 'CARRO', 'NAVIO', 'ONIBUS']\n"
          ]
        }
      ]
    }
  ]
}