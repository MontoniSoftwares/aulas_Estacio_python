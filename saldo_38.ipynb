{
  "nbformat": 4,
  "nbformat_minor": 0,
  "metadata": {
    "colab": {
      "provenance": [],
      "authorship_tag": "ABX9TyMLvkAB7r89wizVAakJ01XT",
      "include_colab_link": true
    },
    "kernelspec": {
      "name": "python3",
      "display_name": "Python 3"
    },
    "language_info": {
      "name": "python"
    }
  },
  "cells": [
    {
      "cell_type": "markdown",
      "metadata": {
        "id": "view-in-github",
        "colab_type": "text"
      },
      "source": [
        "<a href=\"https://colab.research.google.com/github/MontoniSoftwares/aulas_Estacio_python/blob/main/saldo_38.ipynb\" target=\"_parent\"><img src=\"https://colab.research.google.com/assets/colab-badge.svg\" alt=\"Open In Colab\"/></a>"
      ]
    },
    {
      "cell_type": "code",
      "source": [
        "class Conta:\n",
        "    def __init__(self, numero):\n",
        "        self.numero = numero\n",
        "        self._saldo = 0\n",
        "        \n",
        "    @property\n",
        "    def saldo(self):\n",
        "        return self._saldo\n",
        "    \n",
        "    @saldo.setter\n",
        "    def saldo(self, saldo):\n",
        "        if saldo < 0:\n",
        "            print (\"saldo inválido\")\n",
        "        else:\n",
        "            self._saldo = saldo\n",
        "            \n",
        "def main():\n",
        "    conta = Conta(1)\n",
        "    conta.saldo = 1000 # usando o @saldo.setter\n",
        "    print(f'saldo da conta = {conta.saldo}') # usando o @property\n",
        "    \n",
        "if __name__ == \"__main__\":\n",
        "    main()"
      ],
      "metadata": {
        "colab": {
          "base_uri": "https://localhost:8080/"
        },
        "id": "aVQTr58eHkmU",
        "outputId": "96f8808b-cce1-4b80-f543-6290a2785bd0"
      },
      "execution_count": 52,
      "outputs": [
        {
          "output_type": "stream",
          "name": "stdout",
          "text": [
            "saldo da conta = 1000\n"
          ]
        }
      ]
    }
  ]
}