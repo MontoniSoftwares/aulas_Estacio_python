{
  "nbformat": 4,
  "nbformat_minor": 0,
  "metadata": {
    "colab": {
      "provenance": [],
      "authorship_tag": "ABX9TyPxubj1PXWhHvAy0edhEzdI",
      "include_colab_link": true
    },
    "kernelspec": {
      "name": "python3",
      "display_name": "Python 3"
    },
    "language_info": {
      "name": "python"
    }
  },
  "cells": [
    {
      "cell_type": "markdown",
      "metadata": {
        "id": "view-in-github",
        "colab_type": "text"
      },
      "source": [
        "<a href=\"https://colab.research.google.com/github/MontoniSoftwares/aulas_Estacio_python/blob/main/objeto_7_37.ipynb\" target=\"_parent\"><img src=\"https://colab.research.google.com/assets/colab-badge.svg\" alt=\"Open In Colab\"/></a>"
      ]
    },
    {
      "cell_type": "code",
      "source": [
        "class Conta:\n",
        "   def __init__(self, numero, cpf, nomeTitular, saldo):\n",
        "      self.numero = numero\n",
        "      self.cpf = cpf\n",
        "      self.nomeTitular = nomeTitular\n",
        "      self.saldo = saldo\n",
        "   def depositar(self, valor):\n",
        "      self.saldo += valor\n",
        "   def sacar(self,valor):\n",
        "      if self.saldo < valor:\n",
        "         return False\n",
        "   else\n",
        "         self.saldo -= valor\n",
        "         return True\n",
        "   def gerarextrato(self):\n",
        "        print(f\"numero:{self.numero}\\n     cpf:{self.cpf}\\nsaldo:{selfsaldo}\")\n",
        "   def transfereValor(self,contaDestino,valor):\n",
        "        if self.saldo < valor:\n",
        "          return (\"Não existe saldo suficiente\")\n",
        "   else:\n",
        "           contaDestino.depositar(valor)\n",
        "           self.saldo -= valor\n",
        "                    return(\"Transferencia Realizada\") "
      ],
      "metadata": {
        "colab": {
          "base_uri": "https://localhost:8080/",
          "height": 131
        },
        "id": "aVQTr58eHkmU",
        "outputId": "97c7db49-2bda-4eb7-ea54-97df2113cacd"
      },
      "execution_count": 51,
      "outputs": [
        {
          "output_type": "error",
          "ename": "SyntaxError",
          "evalue": "ignored",
          "traceback": [
            "\u001b[0;36m  File \u001b[0;32m\"<ipython-input-51-9695ea90322b>\"\u001b[0;36m, line \u001b[0;32m12\u001b[0m\n\u001b[0;31m    else\u001b[0m\n\u001b[0m    ^\u001b[0m\n\u001b[0;31mSyntaxError\u001b[0m\u001b[0;31m:\u001b[0m invalid syntax\n"
          ]
        }
      ]
    }
  ]
}