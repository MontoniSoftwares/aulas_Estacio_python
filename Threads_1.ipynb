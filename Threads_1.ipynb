{
  "nbformat": 4,
  "nbformat_minor": 0,
  "metadata": {
    "colab": {
      "provenance": [],
      "authorship_tag": "ABX9TyPhlY5rqUKC5jfO6gYy4w2s",
      "include_colab_link": true
    },
    "kernelspec": {
      "name": "python3",
      "display_name": "Python 3"
    },
    "language_info": {
      "name": "python"
    }
  },
  "cells": [
    {
      "cell_type": "markdown",
      "metadata": {
        "id": "view-in-github",
        "colab_type": "text"
      },
      "source": [
        "<a href=\"https://colab.research.google.com/github/MontoniSoftwares/aulas_Estacio_python/blob/main/Threads_1.ipynb\" target=\"_parent\"><img src=\"https://colab.research.google.com/assets/colab-badge.svg\" alt=\"Open In Colab\"/></a>"
      ]
    },
    {
      "cell_type": "code",
      "source": [
        "from time import sleep\n",
        "from threading import Thread\n",
        "def tarefa (tempo_espera, mensagem):\n",
        "    print(f'\\nIniciando a tarefa {mensagem}')\n",
        "    sleep(tempo_espera)\n",
        "    print(f'Conclusão da Tarefa{mensagem}')\n",
        "thread = Thread(target=tarefa, args=(2, 'Tread em Execução')) \n",
        "thread.start()\n",
        "print('\\nAguardandopela execução da Thread...')\n",
        "thread.join()\n",
        "print(\"A execução foi concluida!\")"
      ],
      "metadata": {
        "colab": {
          "base_uri": "https://localhost:8080/"
        },
        "id": "aVQTr58eHkmU",
        "outputId": "0e95744a-3fba-486a-c7d3-3790d72e1c05"
      },
      "execution_count": 31,
      "outputs": [
        {
          "output_type": "stream",
          "name": "stdout",
          "text": [
            "\n",
            "Iniciando a tarefa Tread em Execução\n",
            "Aguardandopela execução da Thread...\n",
            "\n",
            "Conclusão da TarefaTread em Execução\n",
            "A execução foi concluida!\n"
          ]
        }
      ]
    },
    {
      "cell_type": "code",
      "source": [],
      "metadata": {
        "id": "2spI6Mz3dlYG"
      },
      "execution_count": null,
      "outputs": []
    }
  ]
}