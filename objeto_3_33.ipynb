{
  "nbformat": 4,
  "nbformat_minor": 0,
  "metadata": {
    "colab": {
      "provenance": [],
      "authorship_tag": "ABX9TyOblA8xOdPwDc0tUAvyFWRM",
      "include_colab_link": true
    },
    "kernelspec": {
      "name": "python3",
      "display_name": "Python 3"
    },
    "language_info": {
      "name": "python"
    }
  },
  "cells": [
    {
      "cell_type": "markdown",
      "metadata": {
        "id": "view-in-github",
        "colab_type": "text"
      },
      "source": [
        "<a href=\"https://colab.research.google.com/github/MontoniSoftwares/aulas_Estacio_python/blob/main/objeto_3_33.ipynb\" target=\"_parent\"><img src=\"https://colab.research.google.com/assets/colab-badge.svg\" alt=\"Open In Colab\"/></a>"
      ]
    },
    {
      "cell_type": "code",
      "source": [
        "class A():\n",
        "    def f(self):\n",
        "        print(\"foo\")\n",
        "\n",
        "\n",
        "def main():\n",
        "    obj_A = A() # Objeto sendo instanciado\n",
        "    obj_A.f()\n",
        "\n",
        "if __name__ == \"__main__\": \n",
        "    main()"
      ],
      "metadata": {
        "colab": {
          "base_uri": "https://localhost:8080/"
        },
        "id": "aVQTr58eHkmU",
        "outputId": "a67e4a54-6005-4960-9364-ae665a08831c"
      },
      "execution_count": 26,
      "outputs": [
        {
          "output_type": "stream",
          "name": "stdout",
          "text": [
            "foo\n"
          ]
        }
      ]
    }
  ]
}