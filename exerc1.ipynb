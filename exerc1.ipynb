{
  "nbformat": 4,
  "nbformat_minor": 0,
  "metadata": {
    "colab": {
      "provenance": [],
      "authorship_tag": "ABX9TyM/7ZbgU6FX5WlKJ3mdNr1K",
      "include_colab_link": true
    },
    "kernelspec": {
      "name": "python3",
      "display_name": "Python 3"
    },
    "language_info": {
      "name": "python"
    }
  },
  "cells": [
    {
      "cell_type": "markdown",
      "metadata": {
        "id": "view-in-github",
        "colab_type": "text"
      },
      "source": [
        "<a href=\"https://colab.research.google.com/github/MontoniSoftwares/aulas_Estacio_python/blob/main/exerc1.ipynb\" target=\"_parent\"><img src=\"https://colab.research.google.com/assets/colab-badge.svg\" alt=\"Open In Colab\"/></a>"
      ]
    },
    {
      "cell_type": "markdown",
      "source": [],
      "metadata": {
        "id": "IbXwnhfWkHj2"
      }
    },
    {
      "cell_type": "code",
      "source": [
        "# solicita que o usuário digite um número inteiro\n",
        "numero = int(input(\"Digite um número inteiro: \"))\n",
        "\n",
        "# verifica se o número é par ou ímpar usando o operador módulo (%)\n",
        "if numero % 2 == 0:\n",
        "    print(numero, \"é um número par\")\n",
        "else:\n",
        "    print(numero, \"é um número ímpar\")\n"
      ],
      "metadata": {
        "colab": {
          "base_uri": "https://localhost:8080/"
        },
        "id": "NrON80pwkhjs",
        "outputId": "7055e57b-5b14-43c9-e344-004465fa359c"
      },
      "execution_count": 8,
      "outputs": [
        {
          "output_type": "stream",
          "name": "stdout",
          "text": [
            "Digite um número inteiro: 12\n",
            "12 é um número par\n"
          ]
        }
      ]
    },
    {
      "cell_type": "code",
      "source": [],
      "metadata": {
        "id": "yn3sxhVFnAn7"
      },
      "execution_count": null,
      "outputs": []
    }
  ]
}