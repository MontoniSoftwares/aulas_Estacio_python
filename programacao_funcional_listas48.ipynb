{
  "nbformat": 4,
  "nbformat_minor": 0,
  "metadata": {
    "colab": {
      "provenance": [],
      "authorship_tag": "ABX9TyMOvTZzoGIUPBQQH5lVwsGt",
      "include_colab_link": true
    },
    "kernelspec": {
      "name": "python3",
      "display_name": "Python 3"
    },
    "language_info": {
      "name": "python"
    }
  },
  "cells": [
    {
      "cell_type": "markdown",
      "metadata": {
        "id": "view-in-github",
        "colab_type": "text"
      },
      "source": [
        "<a href=\"https://colab.research.google.com/github/MontoniSoftwares/aulas_Estacio_python/blob/main/programacao_funcional_listas48.ipynb\" target=\"_parent\"><img src=\"https://colab.research.google.com/assets/colab-badge.svg\" alt=\"Open In Colab\"/></a>"
      ]
    },
    {
      "cell_type": "code",
      "source": [
        "lista = [0,1,1,2,3,5,8,13,21,34]\n",
        "\n",
        "fTeste_Paridade = lambda x: x % 2 == 0\n",
        "\n",
        "print(f'teste de fTeste_paridade(5) = {fTeste_Paridade(5)}')\n",
        "\n",
        "pares = list(filter(fTeste_Paridade, lista))\n",
        "\n",
        "print (f\"lista de numeros pares = {pares}\")\n"
      ],
      "metadata": {
        "colab": {
          "base_uri": "https://localhost:8080/"
        },
        "id": "aVQTr58eHkmU",
        "outputId": "9b216444-f779-4c23-ec0d-bf2c3ed4def4"
      },
      "execution_count": 9,
      "outputs": [
        {
          "output_type": "stream",
          "name": "stdout",
          "text": [
            "teste de fTeste_paridade(5) = False\n",
            "lista de numeros pares = [0, 2, 8, 34]\n"
          ]
        }
      ]
    }
  ]
}