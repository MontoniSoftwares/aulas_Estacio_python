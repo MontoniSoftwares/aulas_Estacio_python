{
  "nbformat": 4,
  "nbformat_minor": 0,
  "metadata": {
    "colab": {
      "provenance": [],
      "authorship_tag": "ABX9TyPviKTxqHxrXMLWt2bO0H8/",
      "include_colab_link": true
    },
    "kernelspec": {
      "name": "python3",
      "display_name": "Python 3"
    },
    "language_info": {
      "name": "python"
    }
  },
  "cells": [
    {
      "cell_type": "markdown",
      "metadata": {
        "id": "view-in-github",
        "colab_type": "text"
      },
      "source": [
        "<a href=\"https://colab.research.google.com/github/MontoniSoftwares/aulas_Estacio_python/blob/main/exerc14.ipynb\" target=\"_parent\"><img src=\"https://colab.research.google.com/assets/colab-badge.svg\" alt=\"Open In Colab\"/></a>"
      ]
    },
    {
      "cell_type": "code",
      "source": [
        "escolha = input(\"Escolha uma opção de função: 1 ou 2\\n\")\n",
        "if escolha == \"1\":\n",
        "    def func1(x):\n",
        "        return x + 1\n",
        "    s = func1(10)\n",
        "\n",
        "else:\n",
        "    def func2(x):\n",
        "        return x + 2\n",
        "    s = func2(10)\n",
        "\n",
        "print(s)"
      ],
      "metadata": {
        "colab": {
          "base_uri": "https://localhost:8080/"
        },
        "id": "hK9wXn0FEpnW",
        "outputId": "1ad2f3e3-e850-4ba1-b3dc-dd5eb4c3ec35"
      },
      "execution_count": 72,
      "outputs": [
        {
          "output_type": "stream",
          "name": "stdout",
          "text": [
            "Escolha uma opção de função: 1 ou 2\n",
            "1\n",
            "11\n"
          ]
        }
      ]
    }
  ]
}