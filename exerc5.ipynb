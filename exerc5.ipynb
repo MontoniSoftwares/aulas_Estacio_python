{
  "nbformat": 4,
  "nbformat_minor": 0,
  "metadata": {
    "colab": {
      "provenance": [],
      "authorship_tag": "ABX9TyOUsQ26/3IZutu32Hn0E/PK",
      "include_colab_link": true
    },
    "kernelspec": {
      "name": "python3",
      "display_name": "Python 3"
    },
    "language_info": {
      "name": "python"
    }
  },
  "cells": [
    {
      "cell_type": "markdown",
      "metadata": {
        "id": "view-in-github",
        "colab_type": "text"
      },
      "source": [
        "<a href=\"https://colab.research.google.com/github/MontoniSoftwares/aulas_Estacio_python/blob/main/exerc5.ipynb\" target=\"_parent\"><img src=\"https://colab.research.google.com/assets/colab-badge.svg\" alt=\"Open In Colab\"/></a>"
      ]
    },
    {
      "cell_type": "code",
      "source": [
        "nomes = ['Laura', 'Lis', 'Guilherme', 'Enzo', 'Arthur']\n",
        "for nome in nomes:\n",
        "    print(nome)"
      ],
      "metadata": {
        "id": "UrtGOgqT2iGc"
      },
      "execution_count": null,
      "outputs": []
    }
  ]
}