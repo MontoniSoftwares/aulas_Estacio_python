{
  "nbformat": 4,
  "nbformat_minor": 0,
  "metadata": {
    "colab": {
      "provenance": [],
      "authorship_tag": "ABX9TyO0WhbyI0iOORII9cqvR28v",
      "include_colab_link": true
    },
    "kernelspec": {
      "name": "python3",
      "display_name": "Python 3"
    },
    "language_info": {
      "name": "python"
    }
  },
  "cells": [
    {
      "cell_type": "markdown",
      "metadata": {
        "id": "view-in-github",
        "colab_type": "text"
      },
      "source": [
        "<a href=\"https://colab.research.google.com/github/MontoniSoftwares/aulas_Estacio_python/blob/main/exerc5.ipynb\" target=\"_parent\"><img src=\"https://colab.research.google.com/assets/colab-badge.svg\" alt=\"Open In Colab\"/></a>"
      ]
    },
    {
      "cell_type": "code",
      "source": [
        "palavra = input('Entre com uma palavra: \\n ')\n",
        "while palavra != 'sair':\n",
        "    palavra = input('Digite sair para encerrar o laço: \\n')\n",
        "print('Você digitou sair e agora está fora do laço')"
      ],
      "metadata": {
        "colab": {
          "base_uri": "https://localhost:8080/"
        },
        "id": "UrtGOgqT2iGc",
        "outputId": "646434f7-70e6-4efc-92ad-85c8ab3bb8ff"
      },
      "execution_count": 37,
      "outputs": [
        {
          "output_type": "stream",
          "name": "stdout",
          "text": [
            "Entre com uma palavra: \n",
            " oi\n",
            "Digite sair para encerrar o laço: \n",
            "sair\n",
            "Você digitou sair e agora está fora do laço\n"
          ]
        }
      ]
    }
  ]
}