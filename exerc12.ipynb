{
  "nbformat": 4,
  "nbformat_minor": 0,
  "metadata": {
    "colab": {
      "provenance": [],
      "authorship_tag": "ABX9TyM+GFsDNpMi8LxILZCXSRiP",
      "include_colab_link": true
    },
    "kernelspec": {
      "name": "python3",
      "display_name": "Python 3"
    },
    "language_info": {
      "name": "python"
    }
  },
  "cells": [
    {
      "cell_type": "markdown",
      "metadata": {
        "id": "view-in-github",
        "colab_type": "text"
      },
      "source": [
        "<a href=\"https://colab.research.google.com/github/MontoniSoftwares/aulas_Estacio_python/blob/main/exerc12.ipynb\" target=\"_parent\"><img src=\"https://colab.research.google.com/assets/colab-badge.svg\" alt=\"Open In Colab\"/></a>"
      ]
    },
    {
      "cell_type": "code",
      "source": [
        "def ehPar (n):\n",
        "  r = (n%2==0)\n",
        "  return r"
      ],
      "metadata": {
        "id": "6nW112jp75SB"
      },
      "execution_count": 65,
      "outputs": []
    },
    {
      "cell_type": "code",
      "source": [
        "def somar_par(list):\n",
        "  soma=0\n",
        "  for num in list:\n",
        "    if (ehPar(num)):\n",
        "      soma=soma+num\n",
        "  return soma    "
      ],
      "metadata": {
        "id": "G_r0_QS4_2eR"
      },
      "execution_count": 66,
      "outputs": []
    },
    {
      "cell_type": "code",
      "source": [
        "lista = [2,13,67,34,4,2,87,44,55]\n",
        "soma=somar_par(lista)\n",
        "print (f'A soma dos numeros pares é: {soma}')"
      ],
      "metadata": {
        "colab": {
          "base_uri": "https://localhost:8080/"
        },
        "id": "X7aj1cyvAe5k",
        "outputId": "40b463d1-9fe9-40f1-f64f-7381ed59c548"
      },
      "execution_count": 67,
      "outputs": [
        {
          "output_type": "stream",
          "name": "stdout",
          "text": [
            "A soma dos numeros pares é: 86\n"
          ]
        }
      ]
    }
  ]
}