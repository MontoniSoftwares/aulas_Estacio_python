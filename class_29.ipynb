{
  "nbformat": 4,
  "nbformat_minor": 0,
  "metadata": {
    "colab": {
      "provenance": [],
      "authorship_tag": "ABX9TyMCDqllVhrxK/Uw1MSJ9NTk",
      "include_colab_link": true
    },
    "kernelspec": {
      "name": "python3",
      "display_name": "Python 3"
    },
    "language_info": {
      "name": "python"
    }
  },
  "cells": [
    {
      "cell_type": "markdown",
      "metadata": {
        "id": "view-in-github",
        "colab_type": "text"
      },
      "source": [
        "<a href=\"https://colab.research.google.com/github/MontoniSoftwares/aulas_Estacio_python/blob/main/class_29.ipynb\" target=\"_parent\"><img src=\"https://colab.research.google.com/assets/colab-badge.svg\" alt=\"Open In Colab\"/></a>"
      ]
    },
    {
      "cell_type": "code",
      "source": [
        "class Pessoa:\n",
        "    def __init__(self, nome, ender):\n",
        "        self.set_nome(nome)\n",
        "        self.set_ender(ender)\n",
        "\n",
        "    def set_nome(self, nome):\n",
        "      self.nome=nome\n",
        "\n",
        "    def set_ender(self, ender):  \n",
        "      self.ender=ender\n",
        "\n",
        "    def get_nome(self):\n",
        "      return self.nome\n",
        "\n",
        "    def get_ender(self):\n",
        "      return self.ender "
      ],
      "metadata": {
        "id": "aVQTr58eHkmU"
      },
      "execution_count": 8,
      "outputs": []
    }
  ]
}