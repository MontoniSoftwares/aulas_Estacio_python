{
  "nbformat": 4,
  "nbformat_minor": 0,
  "metadata": {
    "colab": {
      "provenance": [],
      "authorship_tag": "ABX9TyNjpO1hxvhba8BQO/vherlM",
      "include_colab_link": true
    },
    "kernelspec": {
      "name": "python3",
      "display_name": "Python 3"
    },
    "language_info": {
      "name": "python"
    }
  },
  "cells": [
    {
      "cell_type": "markdown",
      "metadata": {
        "id": "view-in-github",
        "colab_type": "text"
      },
      "source": [
        "<a href=\"https://colab.research.google.com/github/MontoniSoftwares/aulas_Estacio_python/blob/main/exerc6.ipynb\" target=\"_parent\"><img src=\"https://colab.research.google.com/assets/colab-badge.svg\" alt=\"Open In Colab\"/></a>"
      ]
    },
    {
      "cell_type": "code",
      "source": [
        "while True:\n",
        "    palavra = input('Entre com uma palavra: \\n')\n",
        "    if palavra == 'sair':\n",
        "        break\n",
        "print('Você digitou sair e agora está fora do laço')"
      ],
      "metadata": {
        "colab": {
          "base_uri": "https://localhost:8080/"
        },
        "id": "UrtGOgqT2iGc",
        "outputId": "3aeacca5-63e1-4eed-de3d-80f4a57c927c"
      },
      "execution_count": 38,
      "outputs": [
        {
          "output_type": "stream",
          "name": "stdout",
          "text": [
            "Entre com uma palavra: \n",
            "oi\n",
            "Entre com uma palavra: \n",
            "hy\n",
            "Entre com uma palavra: \n",
            "sair\n",
            "Você digitou sair e agora está fora do laço\n"
          ]
        }
      ]
    }
  ]
}