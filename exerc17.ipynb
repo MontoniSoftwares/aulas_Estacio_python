{
  "nbformat": 4,
  "nbformat_minor": 0,
  "metadata": {
    "colab": {
      "provenance": [],
      "authorship_tag": "ABX9TyOF6Q9ca5Sxurtbi+gAgMk7",
      "include_colab_link": true
    },
    "kernelspec": {
      "name": "python3",
      "display_name": "Python 3"
    },
    "language_info": {
      "name": "python"
    }
  },
  "cells": [
    {
      "cell_type": "markdown",
      "metadata": {
        "id": "view-in-github",
        "colab_type": "text"
      },
      "source": [
        "<a href=\"https://colab.research.google.com/github/MontoniSoftwares/aulas_Estacio_python/blob/main/exerc17.ipynb\" target=\"_parent\"><img src=\"https://colab.research.google.com/assets/colab-badge.svg\" alt=\"Open In Colab\"/></a>"
      ]
    },
    {
      "cell_type": "code",
      "source": [
        "def func1():\n",
        "    global x\n",
        "    x = 10\n",
        "    print(f'Função func1 - x = {x}')\n",
        "\n",
        "\n",
        "def func2():\n",
        "    global x\n",
        "    x = 20\n",
        "    print(f'Função func2 - x = {x}')\n",
        "\n",
        "\n",
        "x = 0\n",
        "func1()\n",
        "func2()\n",
        "print(f'Programa principal - x = {x}')"
      ],
      "metadata": {
        "colab": {
          "base_uri": "https://localhost:8080/"
        },
        "id": "NyED1zb4GZfk",
        "outputId": "fe6609b5-f0be-452b-d052-f69c41229a3b"
      },
      "execution_count": 76,
      "outputs": [
        {
          "output_type": "stream",
          "name": "stdout",
          "text": [
            "Função func1 - x = 10\n",
            "Função func2 - x = 20\n",
            "Programa principal - x = 20\n"
          ]
        }
      ]
    }
  ]
}