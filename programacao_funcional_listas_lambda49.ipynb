{
  "nbformat": 4,
  "nbformat_minor": 0,
  "metadata": {
    "colab": {
      "provenance": [],
      "authorship_tag": "ABX9TyNh1TOr3Joy3/cHyLNKfnFb",
      "include_colab_link": true
    },
    "kernelspec": {
      "name": "python3",
      "display_name": "Python 3"
    },
    "language_info": {
      "name": "python"
    }
  },
  "cells": [
    {
      "cell_type": "markdown",
      "metadata": {
        "id": "view-in-github",
        "colab_type": "text"
      },
      "source": [
        "<a href=\"https://colab.research.google.com/github/MontoniSoftwares/aulas_Estacio_python/blob/main/programacao_funcional_listas_lambda49.ipynb\" target=\"_parent\"><img src=\"https://colab.research.google.com/assets/colab-badge.svg\" alt=\"Open In Colab\"/></a>"
      ]
    },
    {
      "cell_type": "code",
      "source": [
        "lista_numeros = [9.569782, 7.56589, 6.598625, 5.45986]\n",
        "\n",
        "lista_precisao = [2,2,3,4]\n",
        "\n",
        "arrendondamento = lambda x,y: round(x,y)\n",
        "\n",
        "resultado = list(map(arrendondamento, lista_numeros, lista_precisao))\n",
        "\n",
        "print (resultado)"
      ],
      "metadata": {
        "colab": {
          "base_uri": "https://localhost:8080/"
        },
        "id": "aVQTr58eHkmU",
        "outputId": "8bb2e89e-85b4-4b7f-c325-5a00291489ec"
      },
      "execution_count": 11,
      "outputs": [
        {
          "output_type": "stream",
          "name": "stdout",
          "text": [
            "[9.57, 7.57, 6.599, 5.4599]\n"
          ]
        }
      ]
    }
  ]
}