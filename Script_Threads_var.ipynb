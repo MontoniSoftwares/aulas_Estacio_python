{
  "nbformat": 4,
  "nbformat_minor": 0,
  "metadata": {
    "colab": {
      "provenance": [],
      "authorship_tag": "ABX9TyONDH9aINm14ufSKZPjGu7e",
      "include_colab_link": true
    },
    "kernelspec": {
      "name": "python3",
      "display_name": "Python 3"
    },
    "language_info": {
      "name": "python"
    }
  },
  "cells": [
    {
      "cell_type": "markdown",
      "metadata": {
        "id": "view-in-github",
        "colab_type": "text"
      },
      "source": [
        "<a href=\"https://colab.research.google.com/github/MontoniSoftwares/aulas_Estacio_python/blob/main/Script_Threads_var.ipynb\" target=\"_parent\"><img src=\"https://colab.research.google.com/assets/colab-badge.svg\" alt=\"Open In Colab\"/></a>"
      ]
    },
    {
      "cell_type": "code",
      "source": [
        "# script threads_var.py\n",
        "from threading import Thread, Lock\n",
        "from multiprocessing import Process\n",
        "import time\n",
        "\n",
        "minha_lista = []\n",
        " \n",
        "def funcao_a(indice):\n",
        "    for i in range(100000):\n",
        "        minha_lista.append(1)\n",
        "        print(\"Termino thread \", indice)\n",
        "\n",
        "def main():\n",
        "    tarefas = []\n",
        "    for indice in range(10):\n",
        "        tarefa = Thread(target=funcao_a, args=(indice,))\n",
        "        tarefas.append(tarefa)\n",
        "        tarefa.start()\n",
        "\n",
        "    print(\"Antes de aguardar o termino!\", len(minha_lista))\n",
        "\n",
        "    for tarefa in tarefas:\n",
        "        tarefa.join()\n",
        "\n",
        "    print(\"Após aguardar o termino!\", len(minha_lista))\n",
        "\n",
        "    if __name__ == \"__main__\":\n",
        "        main()\n"
      ],
      "metadata": {
        "id": "aVQTr58eHkmU"
      },
      "execution_count": 29,
      "outputs": []
    },
    {
      "cell_type": "code",
      "source": [],
      "metadata": {
        "id": "2spI6Mz3dlYG"
      },
      "execution_count": null,
      "outputs": []
    }
  ]
}