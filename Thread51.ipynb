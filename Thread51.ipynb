{
  "nbformat": 4,
  "nbformat_minor": 0,
  "metadata": {
    "colab": {
      "provenance": [],
      "authorship_tag": "ABX9TyP22iAVZ6P/cIX/uB/N5wwG",
      "include_colab_link": true
    },
    "kernelspec": {
      "name": "python3",
      "display_name": "Python 3"
    },
    "language_info": {
      "name": "python"
    }
  },
  "cells": [
    {
      "cell_type": "markdown",
      "metadata": {
        "id": "view-in-github",
        "colab_type": "text"
      },
      "source": [
        "<a href=\"https://colab.research.google.com/github/MontoniSoftwares/aulas_Estacio_python/blob/main/Thread51.ipynb\" target=\"_parent\"><img src=\"https://colab.research.google.com/assets/colab-badge.svg\" alt=\"Open In Colab\"/></a>"
      ]
    },
    {
      "cell_type": "code",
      "source": [
        "# script principal.py\n",
        "from threading import Thread\n",
        "from multiprocessing import Process\n",
        "\n",
        "def funcao_a(nome):\n",
        "    print(nome)\n",
        "\n",
        "def main():\n",
        "    t = Thread(target=funcao_a, args=(\"Minha Thread\",))\n",
        "    t.start()\n",
        "\n",
        "    p = Process(target=funcao_a, args=(\"Meu Processo\",))\n",
        "    p.start()\n",
        "\n",
        "if __name__ == '__main__':\n",
        "    main()\n"
      ],
      "metadata": {
        "colab": {
          "base_uri": "https://localhost:8080/"
        },
        "id": "aVQTr58eHkmU",
        "outputId": "01cb22e1-4c29-41ab-b066-c815cf3f4a19"
      },
      "execution_count": 13,
      "outputs": [
        {
          "output_type": "stream",
          "name": "stdout",
          "text": [
            "Minha Thread\n",
            "Meu Processo\n"
          ]
        }
      ]
    },
    {
      "cell_type": "code",
      "source": [],
      "metadata": {
        "id": "2spI6Mz3dlYG"
      },
      "execution_count": null,
      "outputs": []
    }
  ]
}