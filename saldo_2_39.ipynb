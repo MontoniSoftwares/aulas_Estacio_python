{
  "nbformat": 4,
  "nbformat_minor": 0,
  "metadata": {
    "colab": {
      "provenance": [],
      "authorship_tag": "ABX9TyOVPd2ug/J/xRuhum9M8Jhc",
      "include_colab_link": true
    },
    "kernelspec": {
      "name": "python3",
      "display_name": "Python 3"
    },
    "language_info": {
      "name": "python"
    }
  },
  "cells": [
    {
      "cell_type": "markdown",
      "metadata": {
        "id": "view-in-github",
        "colab_type": "text"
      },
      "source": [
        "<a href=\"https://colab.research.google.com/github/MontoniSoftwares/aulas_Estacio_python/blob/main/saldo_2_39.ipynb\" target=\"_parent\"><img src=\"https://colab.research.google.com/assets/colab-badge.svg\" alt=\"Open In Colab\"/></a>"
      ]
    },
    {
      "cell_type": "code",
      "source": [
        "class ContaBancaria:\n",
        "  num_contas = 0\n",
        "  def __init__(self,clientes,numero,saldo):\n",
        "    self.agencia = agencia\n",
        "    self.numero = numero\n",
        "    self.saldo = saldo\n",
        "    ContaBancaria.num_contas += 1\n",
        "  def _del_(self):\n",
        "    ContaBancaria.num_contas -= 1\n",
        "  def depositar(self,valor):\n",
        "    self.saldo = self.valor + valor\n",
        "  def sacar(self, valor):\n",
        "    self.saldo = self.valor - valor\n",
        "  def consultarSaldo(Self):\n",
        "    return self.saldo"
      ],
      "metadata": {
        "id": "aVQTr58eHkmU"
      },
      "execution_count": 58,
      "outputs": []
    }
  ]
}