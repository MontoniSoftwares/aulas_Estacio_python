{
  "nbformat": 4,
  "nbformat_minor": 0,
  "metadata": {
    "colab": {
      "provenance": [],
      "authorship_tag": "ABX9TyN9uOGk4dOdpvyKIm6OP4EG",
      "include_colab_link": true
    },
    "kernelspec": {
      "name": "python3",
      "display_name": "Python 3"
    },
    "language_info": {
      "name": "python"
    }
  },
  "cells": [
    {
      "cell_type": "markdown",
      "metadata": {
        "id": "view-in-github",
        "colab_type": "text"
      },
      "source": [
        "<a href=\"https://colab.research.google.com/github/MontoniSoftwares/aulas_Estacio_python/blob/main/classes_2_31.ipynb\" target=\"_parent\"><img src=\"https://colab.research.google.com/assets/colab-badge.svg\" alt=\"Open In Colab\"/></a>"
      ]
    },
    {
      "cell_type": "code",
      "source": [
        "# Classe Salário\n",
        "class Salario:\n",
        "   def __int__(self, base, bonus):\n",
        "     self.base = base\n",
        "     self.bonus = bonus\n",
        "\n",
        "   def salario_anual(self):\n",
        "     return (self.base*12)+self.bonus\n",
        "\n",
        "# Classe Empregado\n",
        "class Empregado:\n",
        "  def __int__(self, nome, idade, salario):\n",
        "    self.nome = nome\n",
        "    self.idade = idade\n",
        "    self.salario_agregado = salario #Agregação\n",
        "  def salrio_total(self):\n",
        "      return self.salario_agregado.salario_anual()\n",
        "\n",
        "      salario = Salario(10000, 700)\n",
        "      emp = Empregado('Mussashi',46, salario)\n",
        "      print(emp.salrio_total())\n",
        "\n"
      ],
      "metadata": {
        "id": "aVQTr58eHkmU"
      },
      "execution_count": 24,
      "outputs": []
    }
  ]
}