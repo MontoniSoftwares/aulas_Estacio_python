{
  "nbformat": 4,
  "nbformat_minor": 0,
  "metadata": {
    "colab": {
      "provenance": [],
      "authorship_tag": "ABX9TyOTUZv4NpYJKJJee7G/XzdQ",
      "include_colab_link": true
    },
    "kernelspec": {
      "name": "python3",
      "display_name": "Python 3"
    },
    "language_info": {
      "name": "python"
    }
  },
  "cells": [
    {
      "cell_type": "markdown",
      "metadata": {
        "id": "view-in-github",
        "colab_type": "text"
      },
      "source": [
        "<a href=\"https://colab.research.google.com/github/MontoniSoftwares/aulas_Estacio_python/blob/main/Threads_2.ipynb\" target=\"_parent\"><img src=\"https://colab.research.google.com/assets/colab-badge.svg\" alt=\"Open In Colab\"/></a>"
      ]
    },
    {
      "cell_type": "code",
      "source": [
        "from time import sleep\n",
        "from threading import Thread\n",
        "def tarefa (tempo_espera, nome_tarefa):\n",
        "    print(f'\\Iniciando a tarefa {nome_tarefa}')\n",
        "    sleep(tempo_espera)\n",
        "    print(f'Conclusão da Tarefa {nome_tarefa}')\n",
        "\n",
        "t1 = Thread(target=tarefa, args=(3, 'A'))\n",
        "t2 = Thread(target=tarefa, args=(2, 'B'))  \n",
        "t1.start()\n",
        "t2.start()\n",
        "t1.join()\n",
        "t2.join()\n",
        "print(\"A execução foi concluida!\")"
      ],
      "metadata": {
        "colab": {
          "base_uri": "https://localhost:8080/"
        },
        "id": "aVQTr58eHkmU",
        "outputId": "688a80e3-a50c-41a6-f015-7655897dc571"
      },
      "execution_count": 33,
      "outputs": [
        {
          "output_type": "stream",
          "name": "stdout",
          "text": [
            "\\Iniciando a tarefa A\n",
            "\\Iniciando a tarefa B\n",
            "Conclusão da Tarefa B\n",
            "Conclusão da Tarefa A\n",
            "A execução foi concluida!\n"
          ]
        }
      ]
    },
    {
      "cell_type": "code",
      "source": [],
      "metadata": {
        "id": "2spI6Mz3dlYG"
      },
      "execution_count": null,
      "outputs": []
    }
  ]
}