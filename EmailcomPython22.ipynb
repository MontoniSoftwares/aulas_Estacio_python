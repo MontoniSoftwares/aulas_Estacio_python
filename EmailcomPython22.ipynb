{
  "nbformat": 4,
  "nbformat_minor": 0,
  "metadata": {
    "colab": {
      "provenance": [],
      "authorship_tag": "ABX9TyNY+7Tn+ih/Msto2NqgvYP4",
      "include_colab_link": true
    },
    "kernelspec": {
      "name": "python3",
      "display_name": "Python 3"
    },
    "language_info": {
      "name": "python"
    }
  },
  "cells": [
    {
      "cell_type": "markdown",
      "metadata": {
        "id": "view-in-github",
        "colab_type": "text"
      },
      "source": [
        "<a href=\"https://colab.research.google.com/github/MontoniSoftwares/aulas_Estacio_python/blob/main/EmailcomPython22.ipynb\" target=\"_parent\"><img src=\"https://colab.research.google.com/assets/colab-badge.svg\" alt=\"Open In Colab\"/></a>"
      ]
    },
    {
      "cell_type": "code",
      "source": [
        "#import dos pacotes necessários\n",
        "from email.mime.multipart import MIMEMultipart\n",
        "from email.mime.text import MIMEText\n",
        "import smtplib\n",
        "\n",
        "#criação de um objeto de mensagem\n",
        "msg = MIMEMultipart()\n",
        "texto = \"Estou enviando um email com Python\"\n",
        "\n",
        "#import dos pacotes necessários\n",
        "from email.mime.multipart import MIMEMultipart\n",
        "from email.mime.text import MIMEText\n",
        "import smtplib\n",
        "\n",
        "#criação de um objeto de mensagem\n",
        "msg = MIMEMultipart()\n",
        "texto = \"Estou enviando um email com Python\"\n",
        "\n",
        "#parâmetros\n",
        "senha = \"SUA SENHA\"\n",
        "msg['From'] = \"SEU E-MAIL\"\n",
        "msg['To'] = \"E-MAIL DESTINO\"\n",
        "msg['Subject'] = \"ASSUNTO\"\n",
        "\n",
        "#criação do corpo da mensagem\n",
        "msg.attach(MIMEText(texto, 'plain'))\n",
        "\n",
        "#criação do servidor\n",
        "server = smtplib.SMTP('smtp.gmail.com: 587')\n",
        "server.starttls()\n",
        "\n",
        "#Login na conta para envio\n",
        "server.login(msg['From'], senha)\n",
        "\n",
        "#envio da mensagem\n",
        "server.sendmail(msg['From'], msg['To'], msg.as_string())\n",
        "\n",
        "#encerramento do servidor\n",
        "server.quit()\n",
        "\n",
        "print('Mensagem enviada com sucesso')\n"
      ],
      "metadata": {
        "id": "aVQTr58eHkmU"
      },
      "execution_count": 4,
      "outputs": []
    }
  ]
}