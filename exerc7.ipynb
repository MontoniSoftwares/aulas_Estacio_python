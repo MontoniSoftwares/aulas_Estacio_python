{
  "nbformat": 4,
  "nbformat_minor": 0,
  "metadata": {
    "colab": {
      "provenance": [],
      "authorship_tag": "ABX9TyMUisVKR3H8+R3300hQtCdb",
      "include_colab_link": true
    },
    "kernelspec": {
      "name": "python3",
      "display_name": "Python 3"
    },
    "language_info": {
      "name": "python"
    }
  },
  "cells": [
    {
      "cell_type": "markdown",
      "metadata": {
        "id": "view-in-github",
        "colab_type": "text"
      },
      "source": [
        "<a href=\"https://colab.research.google.com/github/MontoniSoftwares/aulas_Estacio_python/blob/main/exerc7.ipynb\" target=\"_parent\"><img src=\"https://colab.research.google.com/assets/colab-badge.svg\" alt=\"Open In Colab\"/></a>"
      ]
    },
    {
      "cell_type": "code",
      "source": [
        "while True:\n",
        "    palavra = input('Entre com uma palavra: \\n')\n",
        "    if palavra == 'sair':\n",
        "        break\n",
        "print('Você digitou sair e agora está fora do laço')"
      ],
      "metadata": {
        "colab": {
          "base_uri": "https://localhost:8080/"
        },
        "id": "UrtGOgqT2iGc",
        "outputId": "3aeacca5-63e1-4eed-de3d-80f4a57c927c"
      },
      "execution_count": 38,
      "outputs": [
        {
          "output_type": "stream",
          "name": "stdout",
          "text": [
            "Entre com uma palavra: \n",
            "oi\n",
            "Entre com uma palavra: \n",
            "hy\n",
            "Entre com uma palavra: \n",
            "sair\n",
            "Você digitou sair e agora está fora do laço\n"
          ]
        }
      ]
    },
    {
      "cell_type": "code",
      "source": [
        "while True:\n",
        "    print('Você está no primeiro laço.')\n",
        "    opcao1 = input('Deseja sair dele? Digite SIM para isso. \\n')\n",
        "    if opcao1 == 'SIM':\n",
        "        break  # este break é do primeiro laço\n",
        "    else:\n",
        "        while True:\n",
        "            print('Você está no segundo laço.')\n",
        "            opcao2 = input('Deseja sair dele? Digite SIM para isso. \\n')\n",
        "            if opcao2 == 'SIM':\n",
        "                break  # este break é do segundo laço\n",
        "        print('Você saiu do segundo laço.')\n",
        "print('Você saiu do primeiro laço')"
      ],
      "metadata": {
        "colab": {
          "base_uri": "https://localhost:8080/"
        },
        "id": "xvZORylE4HGK",
        "outputId": "882f4078-8479-4e2e-e3c5-c3a96fb18bc7"
      },
      "execution_count": 39,
      "outputs": [
        {
          "output_type": "stream",
          "name": "stdout",
          "text": [
            "Você está no primeiro laço.\n",
            "Deseja sair dele? Digite SIM para isso. \n",
            "não\n",
            "Você está no segundo laço.\n",
            "Deseja sair dele? Digite SIM para isso. \n",
            "não\n",
            "Você está no segundo laço.\n",
            "Deseja sair dele? Digite SIM para isso. \n",
            "sim\n",
            "Você está no segundo laço.\n",
            "Deseja sair dele? Digite SIM para isso. \n",
            "sair\n",
            "Você está no segundo laço.\n",
            "Deseja sair dele? Digite SIM para isso. \n",
            "SIM\n",
            "Você saiu do segundo laço.\n",
            "Você está no primeiro laço.\n",
            "Deseja sair dele? Digite SIM para isso. \n",
            "SIM\n",
            "Você saiu do primeiro laço\n"
          ]
        }
      ]
    }
  ]
}