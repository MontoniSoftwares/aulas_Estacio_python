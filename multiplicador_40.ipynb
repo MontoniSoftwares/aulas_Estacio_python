{
  "nbformat": 4,
  "nbformat_minor": 0,
  "metadata": {
    "colab": {
      "provenance": [],
      "authorship_tag": "ABX9TyOlqdD86YD2Fofvu1eMdDUs",
      "include_colab_link": true
    },
    "kernelspec": {
      "name": "python3",
      "display_name": "Python 3"
    },
    "language_info": {
      "name": "python"
    }
  },
  "cells": [
    {
      "cell_type": "markdown",
      "metadata": {
        "id": "view-in-github",
        "colab_type": "text"
      },
      "source": [
        "<a href=\"https://colab.research.google.com/github/MontoniSoftwares/aulas_Estacio_python/blob/main/multiplicador_40.ipynb\" target=\"_parent\"><img src=\"https://colab.research.google.com/assets/colab-badge.svg\" alt=\"Open In Colab\"/></a>"
      ]
    },
    {
      "cell_type": "code",
      "source": [
        "# script funcao5.py\n",
        "def multiplicar_por(multiplicador):\n",
        "    def multi(multiplicando):\n",
        "        return multiplicando * multiplicador\n",
        "    return multi\n",
        "\n",
        "def main():\n",
        "    multiplicar_por_10 = multiplicar_por(10)\n",
        "    print(multiplicar_por_10(1))\n",
        "    print(multiplicar_por_10(2))\n",
        " \n",
        "    multiplicar_por_5 = multiplicar_por(5)\n",
        "    print(multiplicar_por_5(1))\n",
        "    print(multiplicar_por_5(2))\n",
        "\n",
        "if __name__ == \"__main__\":\n",
        "    main()\n"
      ],
      "metadata": {
        "colab": {
          "base_uri": "https://localhost:8080/"
        },
        "id": "aVQTr58eHkmU",
        "outputId": "e379e8fe-1251-4766-f604-1593b902c1a5"
      },
      "execution_count": 1,
      "outputs": [
        {
          "output_type": "stream",
          "name": "stdout",
          "text": [
            "10\n",
            "20\n",
            "5\n",
            "10\n"
          ]
        }
      ]
    }
  ]
}