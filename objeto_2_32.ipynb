{
  "nbformat": 4,
  "nbformat_minor": 0,
  "metadata": {
    "colab": {
      "provenance": [],
      "authorship_tag": "ABX9TyNmmfbYf1w/fk50mAHwp1+r",
      "include_colab_link": true
    },
    "kernelspec": {
      "name": "python3",
      "display_name": "Python 3"
    },
    "language_info": {
      "name": "python"
    }
  },
  "cells": [
    {
      "cell_type": "markdown",
      "metadata": {
        "id": "view-in-github",
        "colab_type": "text"
      },
      "source": [
        "<a href=\"https://colab.research.google.com/github/MontoniSoftwares/aulas_Estacio_python/blob/main/objeto_2_32.ipynb\" target=\"_parent\"><img src=\"https://colab.research.google.com/assets/colab-badge.svg\" alt=\"Open In Colab\"/></a>"
      ]
    },
    {
      "cell_type": "code",
      "source": [
        "class Conta:\n",
        "    def __init__(self, numero, cpf, nomeTitular, saldo):\n",
        "        self.numero = numero\n",
        "        self.cpf = cpf\n",
        "        self.nomeTitular = nomeTitular\n",
        "        self.saldo = saldo\n",
        "\n",
        "def main():\n",
        "    c1 = Conta(1,1,\"Joao\",10000) # Objeto sendo instanciado\n",
        "    print (f\"Nome do titular da conta: {c1.nomeTitular}\")\n",
        "    print (f\"Número da conta: {c1.numero}\")\n",
        "    print (f\"CPF do titular da conta: {c1.cpf}\")\n",
        "    print (f\"Saldo da conta: {c1.saldo}\")\n",
        "    \n"
      ],
      "metadata": {
        "id": "aVQTr58eHkmU"
      },
      "execution_count": 25,
      "outputs": []
    }
  ]
}