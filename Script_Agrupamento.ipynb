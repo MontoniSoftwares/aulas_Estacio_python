{
  "nbformat": 4,
  "nbformat_minor": 0,
  "metadata": {
    "colab": {
      "provenance": [],
      "authorship_tag": "ABX9TyMrhWxwJToaK6sXQneHsvc1",
      "include_colab_link": true
    },
    "kernelspec": {
      "name": "python3",
      "display_name": "Python 3"
    },
    "language_info": {
      "name": "python"
    }
  },
  "cells": [
    {
      "cell_type": "markdown",
      "metadata": {
        "id": "view-in-github",
        "colab_type": "text"
      },
      "source": [
        "<a href=\"https://colab.research.google.com/github/MontoniSoftwares/aulas_Estacio_python/blob/main/Script_Agrupamento.ipynb\" target=\"_parent\"><img src=\"https://colab.research.google.com/assets/colab-badge.svg\" alt=\"Open In Colab\"/></a>"
      ]
    },
    {
      "cell_type": "code",
      "source": [
        "import matplotlib.pyplot as plt\n",
        "from mpl_toolkits.mplot3d import Axes3D\n",
        "from sklearn.cluster import KMeans\n",
        "from sklearn.datasets import load_iris\n",
        " \n",
        "################## Pré-processamento ###################\n",
        "# Coleta e Integração\n",
        "iris = load_iris()\n",
        " \n",
        "caracteristicas = iris.data\n",
        " \n",
        "################### Mineração #####################\n",
        "grupos = KMeans(n_clusters=3)\n",
        "grupos.fit(X=caracteristicas)\n",
        "labels = grupos.labels_ # indice do grupo ao qual cada amostra pertence\n",
        " \n",
        "################ Pós-processamento ####################\n",
        "fig = plt.figure(1)\n",
        "ax = Axes3D(fig)\n",
        "ax.set_xlabel('Comprimento Sépala')\n",
        "ax.set_ylabel('Largura Sépala')\n",
        "ax.set_zlabel('Comprimento Pétala')\n",
        "ax.scatter(caracteristicas[:, 0], caracteristicas[:, 1], caracteristicas[:, 2], c=grupos.labels_, edgecolor='k')\n",
        " \n",
        "target = iris.target\n",
        "fig = plt.figure(2)\n",
        "ax = Axes3D(fig)\n",
        "ax.set_xlabel('Comprimento Sépala')\n",
        "ax.set_ylabel('Largura Sépala')\n",
        "ax.set_zlabel('Comprimento Pétala')\n",
        "ax.scatter(caracteristicas[:, 0], caracteristicas[:, 1], caracteristicas[:, 2], c=target, edgecolor='k')\n",
        " \n",
        "plt.show()"
      ],
      "metadata": {
        "colab": {
          "base_uri": "https://localhost:8080/",
          "height": 106
        },
        "id": "LoS61EvSys2B",
        "outputId": "455a60c7-3c66-4efb-92ca-4a7d6df18c72"
      },
      "execution_count": 61,
      "outputs": [
        {
          "output_type": "stream",
          "name": "stderr",
          "text": [
            "/usr/local/lib/python3.10/dist-packages/sklearn/cluster/_kmeans.py:870: FutureWarning: The default value of `n_init` will change from 10 to 'auto' in 1.4. Set the value of `n_init` explicitly to suppress the warning\n",
            "  warnings.warn(\n"
          ]
        },
        {
          "output_type": "display_data",
          "data": {
            "text/plain": [
              "<Figure size 640x480 with 0 Axes>"
            ]
          },
          "metadata": {}
        },
        {
          "output_type": "display_data",
          "data": {
            "text/plain": [
              "<Figure size 640x480 with 0 Axes>"
            ]
          },
          "metadata": {}
        }
      ]
    }
  ]
}