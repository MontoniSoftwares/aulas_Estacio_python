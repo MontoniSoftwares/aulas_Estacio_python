{
  "nbformat": 4,
  "nbformat_minor": 0,
  "metadata": {
    "colab": {
      "provenance": [],
      "authorship_tag": "ABX9TyPo+TdMj5OnKoScMgzp8xDu",
      "include_colab_link": true
    },
    "kernelspec": {
      "name": "python3",
      "display_name": "Python 3"
    },
    "language_info": {
      "name": "python"
    }
  },
  "cells": [
    {
      "cell_type": "markdown",
      "metadata": {
        "id": "view-in-github",
        "colab_type": "text"
      },
      "source": [
        "<a href=\"https://colab.research.google.com/github/MontoniSoftwares/aulas_Estacio_python/blob/main/exerc18.ipynb\" target=\"_parent\"><img src=\"https://colab.research.google.com/assets/colab-badge.svg\" alt=\"Open In Colab\"/></a>"
      ]
    },
    {
      "cell_type": "code",
      "source": [
        "def taximetro(distancia):\n",
        "    def calculaMult():\n",
        "        if distancia < 5:\n",
        "            return 1.2\n",
        "        else:\n",
        "            return 1\n",
        "\n",
        "    multiplicador = calculaMult()\n",
        "    largada = 3\n",
        "    km_rodado = 2\n",
        "    valor = (largada + distancia * km_rodado) * multiplicador\n",
        "    return valor\n",
        "\n",
        "\n",
        "dist = eval(input(\"Entre com a distancia a ser percorrida em km: \\n\"))\n",
        "pagamento = taximetro(dist)\n",
        "print(f'O valor a pagar é R$ {pagamento}')"
      ],
      "metadata": {
        "colab": {
          "base_uri": "https://localhost:8080/"
        },
        "id": "3Lsgb71aGuw7",
        "outputId": "cac549cf-b66a-49ca-ff33-899e85c2334b"
      },
      "execution_count": 78,
      "outputs": [
        {
          "output_type": "stream",
          "name": "stdout",
          "text": [
            "Entre com a distancia a ser percorrida em km: \n",
            "4\n",
            "O valor a pagar é R$ 13.2\n"
          ]
        }
      ]
    }
  ]
}