{
  "nbformat": 4,
  "nbformat_minor": 0,
  "metadata": {
    "colab": {
      "provenance": [],
      "authorship_tag": "ABX9TyO7Kyya8VzRe7WzNPXW4jHX",
      "include_colab_link": true
    },
    "kernelspec": {
      "name": "python3",
      "display_name": "Python 3"
    },
    "language_info": {
      "name": "python"
    }
  },
  "cells": [
    {
      "cell_type": "markdown",
      "metadata": {
        "id": "view-in-github",
        "colab_type": "text"
      },
      "source": [
        "<a href=\"https://colab.research.google.com/github/MontoniSoftwares/aulas_Estacio_python/blob/main/SVM.ipynb\" target=\"_parent\"><img src=\"https://colab.research.google.com/assets/colab-badge.svg\" alt=\"Open In Colab\"/></a>"
      ]
    },
    {
      "cell_type": "code",
      "source": [
        "from sklearn.datasets import load_iris, fetch_kddcup99\n",
        "from sklearn.metrics import accuracy_score\n",
        "from sklearn.model_selection import train_test_split\n",
        "from sklearn.tree import DecisionTreeClassifier, export_text, plot_tree\n",
        "from sklearn.svm import SVC\n",
        " \n",
        "################## Pré-processamento ###################\n",
        "# Coleta e Integração\n",
        "iris = load_iris()\n",
        " \n",
        "caracteristicas = iris.data\n",
        "rotulos = iris.target\n",
        " \n",
        "print(\"Caracteristicas:\\n\", caracteristicas[:2])\n",
        "print(\"Rótulos:\\n\", rotulos[:2])\n",
        "print('########################################################')\n",
        " \n",
        "# Partição dos dados\n",
        "carac_treino, carac_teste, rot_treino, rot_teste = train_test_split(caracteristicas, rotulos)\n",
        " \n",
        "################### Mineração #####################\n",
        " \n",
        "############---------- Arvore de Decisão -----------############\n",
        "arvore = DecisionTreeClassifier(max_depth=2)\n",
        "arvore.fit(X=carac_treino, y=rot_treino)\n",
        " \n",
        "rot_preditos = arvore.predict(carac_teste)\n",
        "acuracia_arvore = accuracy_score(rot_teste, rot_preditos)\n",
        "############-------- Máquina de Vetor Suporte ------############\n",
        "clf = SVC()\n",
        "clf.fit(X=carac_treino, y=rot_treino)\n",
        " \n",
        "rot_preditos_svm = clf.predict(carac_teste)\n",
        "acuracia_svm = accuracy_score(rot_teste, rot_preditos_svm)\n",
        " \n",
        "################ Pós-processamento ####################\n",
        "print(\"Acurácia Árvore de Decisão:\", round(acuracia_arvore, 5))\n",
        "print(\"Acurácia SVM:\", round(acuracia_svm, 5))\n",
        "print('########################################################')\n",
        " \n",
        "r = export_text(arvore, feature_names=iris['feature_names'])\n",
        "print(\"Estrutura da árvore\")\n",
        "print(r)"
      ],
      "metadata": {
        "colab": {
          "base_uri": "https://localhost:8080/"
        },
        "id": "LoS61EvSys2B",
        "outputId": "86c063e4-97b2-4e47-8ef5-c496dddadf4f"
      },
      "execution_count": 60,
      "outputs": [
        {
          "output_type": "stream",
          "name": "stdout",
          "text": [
            "Caracteristicas:\n",
            " [[5.1 3.5 1.4 0.2]\n",
            " [4.9 3.  1.4 0.2]]\n",
            "Rótulos:\n",
            " [0 0]\n",
            "########################################################\n",
            "Acurácia Árvore de Decisão: 0.97368\n",
            "Acurácia SVM: 1.0\n",
            "########################################################\n",
            "Estrutura da árvore\n",
            "|--- petal length (cm) <= 2.45\n",
            "|   |--- class: 0\n",
            "|--- petal length (cm) >  2.45\n",
            "|   |--- petal width (cm) <= 1.75\n",
            "|   |   |--- class: 1\n",
            "|   |--- petal width (cm) >  1.75\n",
            "|   |   |--- class: 2\n",
            "\n"
          ]
        }
      ]
    }
  ]
}