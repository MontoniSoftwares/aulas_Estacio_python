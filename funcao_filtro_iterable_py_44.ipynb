{
  "nbformat": 4,
  "nbformat_minor": 0,
  "metadata": {
    "colab": {
      "provenance": [],
      "authorship_tag": "ABX9TyP1lLddig2iu1JUuJg02+a3",
      "include_colab_link": true
    },
    "kernelspec": {
      "name": "python3",
      "display_name": "Python 3"
    },
    "language_info": {
      "name": "python"
    }
  },
  "cells": [
    {
      "cell_type": "markdown",
      "metadata": {
        "id": "view-in-github",
        "colab_type": "text"
      },
      "source": [
        "<a href=\"https://colab.research.google.com/github/MontoniSoftwares/aulas_Estacio_python/blob/main/funcao_filtro_iterable_py_44.ipynb\" target=\"_parent\"><img src=\"https://colab.research.google.com/assets/colab-badge.svg\" alt=\"Open In Colab\"/></a>"
      ]
    },
    {
      "cell_type": "code",
      "source": [
        "# script funcao_filtro_iterable.py\n",
        "lista = [1, 2, 3, 4, 5]\n",
        "\n",
        "def impares(iterable):\n",
        "    lista_aux = []\n",
        "    for item in iterable:\n",
        "        if item % 2 != 0:\n",
        "            lista_aux.append(item)\n",
        "    return lista_aux\n",
        "\n",
        "def main():\n",
        "    nova_lista = impares(lista)\n",
        "    print(nova_lista)\n",
        "\n",
        "if __name__ == \"__main__\":\n",
        "    main()\n"
      ],
      "metadata": {
        "colab": {
          "base_uri": "https://localhost:8080/"
        },
        "id": "aVQTr58eHkmU",
        "outputId": "96325774-e0c3-4ebb-8f84-7f8a71b66741"
      },
      "execution_count": 5,
      "outputs": [
        {
          "output_type": "stream",
          "name": "stdout",
          "text": [
            "[1, 3, 5]\n"
          ]
        }
      ]
    }
  ]
}