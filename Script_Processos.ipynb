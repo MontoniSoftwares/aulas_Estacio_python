{
  "nbformat": 4,
  "nbformat_minor": 0,
  "metadata": {
    "colab": {
      "provenance": [],
      "authorship_tag": "ABX9TyNNPkeMgn95TYT44yuHdqXw",
      "include_colab_link": true
    },
    "kernelspec": {
      "name": "python3",
      "display_name": "Python 3"
    },
    "language_info": {
      "name": "python"
    }
  },
  "cells": [
    {
      "cell_type": "markdown",
      "metadata": {
        "id": "view-in-github",
        "colab_type": "text"
      },
      "source": [
        "<a href=\"https://colab.research.google.com/github/MontoniSoftwares/aulas_Estacio_python/blob/main/Script_Processos.ipynb\" target=\"_parent\"><img src=\"https://colab.research.google.com/assets/colab-badge.svg\" alt=\"Open In Colab\"/></a>"
      ]
    },
    {
      "cell_type": "code",
      "source": [
        "# script processos.py\n",
        "from threading import Thread\n",
        "from multiprocessing import Process, Value\n",
        "\n",
        "def funcao_a(indice, cont):\n",
        "    for i in range(100000):\n",
        "        with cont.get_lock():\n",
        "            cont.value += 1\n",
        "    print(\"Termino processo \", indice)\n",
        "\n",
        "def main():\n",
        "    contador = Value('i', 0)\n",
        "    tarefas = []\n",
        "    for indice in range(10):\n",
        "        tarefa = Process(target=funcao_a, args=(indice, contador))\n",
        "        tarefas.append(tarefa)\n",
        "        tarefa.start()\n",
        "\n",
        "    print(\"Antes de aguardar o termino!\", contador.value)\n",
        "\n",
        "    for tarefa in tarefas:\n",
        "        tarefa.join()\n",
        "\n",
        "    print(\"Após aguardar o termino!\", contador.value)\n",
        "\n",
        "if __name__ == \"__main__\":\n",
        "    main()\n",
        "\n"
      ],
      "metadata": {
        "colab": {
          "base_uri": "https://localhost:8080/"
        },
        "id": "aVQTr58eHkmU",
        "outputId": "0c087f3b-453c-4697-a035-fae1325ba229"
      },
      "execution_count": 30,
      "outputs": [
        {
          "output_type": "stream",
          "name": "stdout",
          "text": [
            "Antes de aguardar o termino! 56921\n",
            "Termino processo  Termino processo  42\n",
            "\n",
            "Termino processo Termino processo   Termino processo 0\n",
            " Termino processo Termino processo 1Termino processo   53\n",
            "9Termino processo \n",
            "\n",
            " \n",
            " 7Termino processo 6 \n",
            "\n",
            "8\n",
            "Após aguardar o termino! 1000000\n"
          ]
        }
      ]
    },
    {
      "cell_type": "code",
      "source": [],
      "metadata": {
        "id": "2spI6Mz3dlYG"
      },
      "execution_count": null,
      "outputs": []
    }
  ]
}